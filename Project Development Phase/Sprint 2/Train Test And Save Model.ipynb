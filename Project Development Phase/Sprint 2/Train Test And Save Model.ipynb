{
 "cells": [
  {
   "cell_type": "code",
   "execution_count": 1,
   "id": "d09380c5",
   "metadata": {},
   "outputs": [
    {
     "name": "stderr",
     "output_type": "stream",
     "text": [
      "Using TensorFlow backend.\n"
     ]
    }
   ],
   "source": [
    "from keras.preprocessing.image import ImageDataGenerator"
   ]
  },
  {
   "cell_type": "markdown",
   "id": "6046b453",
   "metadata": {},
   "source": [
    "# Image Data Agumentation"
   ]
  },
  {
   "cell_type": "code",
   "execution_count": 2,
   "id": "55131604",
   "metadata": {},
   "outputs": [],
   "source": [
    "#setting parameter for Image Data agumentation to the traing data\n",
    "train_datagen = ImageDataGenerator (rescale=1./255, shear_range=0.2,zoom_range=0.2, horizontal_flip=True)\n",
    "#Image Data agumentation to the testing data \n",
    "test_datagen=ImageDataGenerator(rescale=1./255)"
   ]
  },
  {
   "cell_type": "markdown",
   "id": "110bf626",
   "metadata": {},
   "source": [
    "# Loading our data and performing data augmentation"
   ]
  },
  {
   "cell_type": "code",
   "execution_count": 3,
   "id": "08a0f35f",
   "metadata": {},
   "outputs": [
    {
     "name": "stdout",
     "output_type": "stream",
     "text": [
      "Found 742 images belonging to 4 classes.\n",
      "Found 198 images belonging to 4 classes.\n"
     ]
    }
   ],
   "source": [
    "#performing data agumentation to train data\n",
    "x_train = train_datagen.flow_from_directory('C:/Users/pesid/Downloads/IBM-Project/project/dataset/train_set',target_size=(64, 64), batch_size=5, color_mode='rgb',class_mode='categorical')\n",
    "#performing data agumentation to test data\n",
    "x_test = test_datagen.flow_from_directory('C:/Users/pesid/Downloads/IBM-Project/project/dataset/test_set',target_size=(64, 64), batch_size=5, color_mode='rgb',class_mode='categorical')"
   ]
  },
  {
   "cell_type": "markdown",
   "id": "3674a020",
   "metadata": {},
   "source": [
    "# Importing Neccessary Libraries"
   ]
  },
  {
   "cell_type": "code",
   "execution_count": 4,
   "id": "fcfd7c3a",
   "metadata": {},
   "outputs": [],
   "source": [
    "import numpy as np#used for numerical analysis\n",
    "import tensorflow #open source used for both ML and DL for computation\n",
    "from tensorflow.keras.models import Sequential #it is a plain stack of Layers:\n",
    "from tensorflow.keras import layers #A Layer consists of a tensor-in tensor-out computation function\n",
    "#Dense Layer is the regular deeply connected neural network Layer\n",
    "from tensorflow.keras.layers import Dense, Flatten\n",
    "#Faltten-used fot flattening the input or change the dimension\n",
    "from tensorflow.keras.layers import Conv2D, MaxPooling2D #Convolutional Layer\n",
    "#MaxPooling2D-for downsampling the image\n",
    "from keras.preprocessing.image import ImageDataGenerator\n",
    "\n"
   ]
  },
  {
   "cell_type": "code",
   "execution_count": 5,
   "id": "0a5f3192",
   "metadata": {},
   "outputs": [],
   "source": [
    "classifier=Sequential()"
   ]
  },
  {
   "cell_type": "code",
   "execution_count": 6,
   "id": "3a4eecd0",
   "metadata": {},
   "outputs": [],
   "source": [
    "# First convolution layer and pooling\n",
    "classifier.add(Conv2D(32, (3, 3), input_shape=(64, 64, 3), activation='relu')) \n",
    "classifier.add(MaxPooling2D(pool_size=(2, 2)))\n",
    "# Second convolution layer and pooling\n",
    "classifier.add(Conv2D(32, (3, 3), activation='relu'))\n",
    "# input_shape is going to be the pooled feature maps from the previous convolution I\n",
    "classifier.add(MaxPooling2D(pool_size=(2, 2)))\n",
    "# Flattening the Layers\n",
    "classifier.add(Flatten())"
   ]
  },
  {
   "cell_type": "code",
   "execution_count": 7,
   "id": "4cb82009",
   "metadata": {},
   "outputs": [],
   "source": [
    "# Adding a fully connected Layer\n",
    "classifier.add(Dense (units=128, activation='relu'))\n",
    "classifier.add(Dense (units=4, activation='softmax')) # softmax for more than 2"
   ]
  },
  {
   "cell_type": "code",
   "execution_count": 8,
   "id": "357080cd",
   "metadata": {},
   "outputs": [
    {
     "name": "stdout",
     "output_type": "stream",
     "text": [
      "Model: \"sequential\"\n",
      "_________________________________________________________________\n",
      "Layer (type)                 Output Shape              Param #   \n",
      "=================================================================\n",
      "conv2d (Conv2D)              (None, 62, 62, 32)        896       \n",
      "_________________________________________________________________\n",
      "max_pooling2d (MaxPooling2D) (None, 31, 31, 32)        0         \n",
      "_________________________________________________________________\n",
      "conv2d_1 (Conv2D)            (None, 29, 29, 32)        9248      \n",
      "_________________________________________________________________\n",
      "max_pooling2d_1 (MaxPooling2 (None, 14, 14, 32)        0         \n",
      "_________________________________________________________________\n",
      "flatten (Flatten)            (None, 6272)              0         \n",
      "_________________________________________________________________\n",
      "dense (Dense)                (None, 128)               802944    \n",
      "_________________________________________________________________\n",
      "dense_1 (Dense)              (None, 4)                 516       \n",
      "=================================================================\n",
      "Total params: 813,604\n",
      "Trainable params: 813,604\n",
      "Non-trainable params: 0\n",
      "_________________________________________________________________\n"
     ]
    }
   ],
   "source": [
    "classifier.summary()"
   ]
  },
  {
   "cell_type": "markdown",
   "id": "ee2c9a40",
   "metadata": {},
   "source": [
    "# Compiling the model"
   ]
  },
  {
   "cell_type": "code",
   "execution_count": 9,
   "id": "cc1a598e",
   "metadata": {},
   "outputs": [],
   "source": [
    "# Compiling the CNN\n",
    "# categorical_crossentropy for more than 2\n",
    "classifier.compile(optimizer='adam', loss='categorical_crossentropy', metrics=['accuracy'])"
   ]
  },
  {
   "cell_type": "markdown",
   "id": "04759d9f",
   "metadata": {},
   "source": [
    "# Fitting the model"
   ]
  },
  {
   "cell_type": "code",
   "execution_count": 10,
   "id": "42cf4a5a",
   "metadata": {},
   "outputs": [
    {
     "name": "stdout",
     "output_type": "stream",
     "text": [
      "WARNING:tensorflow:From C:\\Users\\pesid\\AppData\\Local\\Temp\\ipykernel_6240\\988338104.py:1: Model.fit_generator (from tensorflow.python.keras.engine.training) is deprecated and will be removed in a future version.\n",
      "Instructions for updating:\n",
      "Please use Model.fit, which supports generators.\n",
      "Epoch 1/20\n",
      "149/149 [==============================] - 23s 153ms/step - loss: 1.1720 - accuracy: 0.4933 - val_loss: 0.8377 - val_accuracy: 0.6667\n",
      "Epoch 2/20\n",
      "149/149 [==============================] - 21s 139ms/step - loss: 0.8336 - accuracy: 0.6550 - val_loss: 1.1909 - val_accuracy: 0.4697\n",
      "Epoch 3/20\n",
      "149/149 [==============================] - 21s 143ms/step - loss: 0.7105 - accuracy: 0.7399 - val_loss: 0.8390 - val_accuracy: 0.6717\n",
      "Epoch 4/20\n",
      "149/149 [==============================] - 21s 141ms/step - loss: 0.5757 - accuracy: 0.7736 - val_loss: 0.9805 - val_accuracy: 0.6263\n",
      "Epoch 5/20\n",
      "149/149 [==============================] - 22s 144ms/step - loss: 0.5806 - accuracy: 0.7817 - val_loss: 0.7162 - val_accuracy: 0.6768\n",
      "Epoch 6/20\n",
      "149/149 [==============================] - 26s 175ms/step - loss: 0.5214 - accuracy: 0.8032 - val_loss: 0.5987 - val_accuracy: 0.8081\n",
      "Epoch 7/20\n",
      "149/149 [==============================] - 21s 140ms/step - loss: 0.4666 - accuracy: 0.8450 - val_loss: 0.5968 - val_accuracy: 0.8283\n",
      "Epoch 8/20\n",
      "149/149 [==============================] - 21s 140ms/step - loss: 0.4618 - accuracy: 0.8235 - val_loss: 0.9052 - val_accuracy: 0.7323\n",
      "Epoch 9/20\n",
      "149/149 [==============================] - 21s 141ms/step - loss: 0.4026 - accuracy: 0.8450 - val_loss: 0.6366 - val_accuracy: 0.8030\n",
      "Epoch 10/20\n",
      "149/149 [==============================] - 21s 139ms/step - loss: 0.3561 - accuracy: 0.8679 - val_loss: 0.8216 - val_accuracy: 0.7727\n",
      "Epoch 11/20\n",
      "149/149 [==============================] - 21s 142ms/step - loss: 0.4345 - accuracy: 0.8410 - val_loss: 0.6938 - val_accuracy: 0.7879\n",
      "Epoch 12/20\n",
      "149/149 [==============================] - 22s 145ms/step - loss: 0.3278 - accuracy: 0.8801 - val_loss: 0.7532 - val_accuracy: 0.7677\n",
      "Epoch 13/20\n",
      "149/149 [==============================] - 21s 140ms/step - loss: 0.3214 - accuracy: 0.8747 - val_loss: 0.7432 - val_accuracy: 0.7778\n",
      "Epoch 14/20\n",
      "149/149 [==============================] - 21s 141ms/step - loss: 0.2653 - accuracy: 0.9057 - val_loss: 0.8912 - val_accuracy: 0.7828\n",
      "Epoch 15/20\n",
      "149/149 [==============================] - 21s 139ms/step - loss: 0.2947 - accuracy: 0.8989 - val_loss: 0.6856 - val_accuracy: 0.8232\n",
      "Epoch 16/20\n",
      "149/149 [==============================] - 21s 140ms/step - loss: 0.2217 - accuracy: 0.9286 - val_loss: 1.0711 - val_accuracy: 0.7273\n",
      "Epoch 17/20\n",
      "149/149 [==============================] - 21s 141ms/step - loss: 0.2470 - accuracy: 0.9178 - val_loss: 0.8524 - val_accuracy: 0.7727\n",
      "Epoch 18/20\n",
      "149/149 [==============================] - 22s 146ms/step - loss: 0.2350 - accuracy: 0.9151 - val_loss: 1.1144 - val_accuracy: 0.7020\n",
      "Epoch 19/20\n",
      "149/149 [==============================] - 21s 142ms/step - loss: 0.2128 - accuracy: 0.9205 - val_loss: 0.7216 - val_accuracy: 0.8333\n",
      "Epoch 20/20\n",
      "149/149 [==============================] - 21s 142ms/step - loss: 0.1734 - accuracy: 0.9434 - val_loss: 0.8815 - val_accuracy: 0.7980\n"
     ]
    },
    {
     "data": {
      "text/plain": [
       "<tensorflow.python.keras.callbacks.History at 0x1afca57d808>"
      ]
     },
     "execution_count": 10,
     "metadata": {},
     "output_type": "execute_result"
    }
   ],
   "source": [
    "classifier.fit_generator( generator=x_train, steps_per_epoch = len(x_train), epochs=20, validation_data=x_test, validation_steps = len(x_test)) # No of images in test set"
   ]
  },
  {
   "cell_type": "markdown",
   "id": "9a927528",
   "metadata": {},
   "source": [
    "# Save the model"
   ]
  },
  {
   "cell_type": "code",
   "execution_count": 11,
   "id": "87989f65",
   "metadata": {},
   "outputs": [],
   "source": [
    "classifier.save('disaster.h5')"
   ]
  },
  {
   "cell_type": "code",
   "execution_count": 12,
   "id": "2a7206d2",
   "metadata": {},
   "outputs": [],
   "source": [
    "model_json = classifier.to_json()\n",
    "with open(\"model-bw.json\", \"w\") as json_file:\n",
    "    json_file.write(model_json)"
   ]
  }
 ],
 "metadata": {
  "kernelspec": {
   "display_name": "Python 3 (ipykernel)",
   "language": "python",
   "name": "python3"
  },
  "language_info": {
   "codemirror_mode": {
    "name": "ipython",
    "version": 3
   },
   "file_extension": ".py",
   "mimetype": "text/x-python",
   "name": "python",
   "nbconvert_exporter": "python",
   "pygments_lexer": "ipython3",
   "version": "3.9.13"
  }
 },
 "nbformat": 4,
 "nbformat_minor": 5
}
